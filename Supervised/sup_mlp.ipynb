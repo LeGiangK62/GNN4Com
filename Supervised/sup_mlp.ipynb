{
 "cells": [
  {
   "cell_type": "code",
   "execution_count": 1,
   "id": "1852f566-1936-4d49-9491-122a9f053ba5",
   "metadata": {},
   "outputs": [],
   "source": [
    "import numpy as np\n",
    "import torch\n",
    "import helper_functions\n",
    "from FPLinQ import FP_optimize, FP\n",
    "from torch.utils.data import Dataset, DataLoader\n",
    "import torch.nn.functional as F"
   ]
  },
  {
   "cell_type": "markdown",
   "id": "15c7609d-71b6-44c8-b213-d5edab255d08",
   "metadata": {},
   "source": [
    "## Create Dataset"
   ]
  },
  {
   "cell_type": "code",
   "execution_count": 2,
   "id": "6012ba82-6fd1-4c44-b26a-d95c48b829e8",
   "metadata": {},
   "outputs": [],
   "source": [
    "train_K = 20\n",
    "test_K = 20\n",
    "train_layouts = 20000\n",
    "test_layouts = 2000\n",
    "var_noise = 1\n",
    "c = 1/np.sqrt(2)"
   ]
  },
  {
   "cell_type": "code",
   "execution_count": 3,
   "id": "dad9bdd7-bb34-48be-9607-6623ba04980f",
   "metadata": {},
   "outputs": [],
   "source": [
    "train_channel_losses = np.abs(c * np.random.randn(train_layouts, train_K, train_K) + c * 1j * np.random.randn(train_layouts, train_K, train_K))\n",
    "test_channel_losses = np.abs(c * np.random.randn(test_layouts, test_K, test_K) + c * 1j * np.random.randn(test_layouts, test_K, test_K))"
   ]
  },
  {
   "cell_type": "markdown",
   "id": "5dd8d7cd-a029-46c9-8f0a-fe3806a5160c",
   "metadata": {},
   "source": [
    "#### Compute the label for training and test dataset via FPLinQ\n",
    "The code for FPlinQ is copied from [2] https://github.com/willtop/Spatial_Deep_Learning_for_Wireless_Scheduling"
   ]
  },
  {
   "cell_type": "code",
   "execution_count": 4,
   "id": "ebcda179-2648-44de-8be3-b5d3a146221e",
   "metadata": {},
   "outputs": [],
   "source": [
    "## Get direct channel CSI\n",
    "directLink_channel_losses = helper_functions.get_directLink_channel_losses(train_channel_losses)\n",
    "## Get interference channel CSI\n",
    "crossLink_channel_losses = helper_functions.get_crossLink_channel_losses(train_channel_losses)\n",
    "Y = FP(np.ones([train_layouts, train_K]), train_channel_losses, var_noise, np.ones([train_layouts, train_K, 1]))\n",
    "rates = helper_functions.compute_rates(var_noise, \n",
    "            Y, directLink_channel_losses, crossLink_channel_losses)\n",
    "sr = np.mean(np.sum(rates,axis=1))\n",
    "y_train = Y"
   ]
  },
  {
   "cell_type": "code",
   "execution_count": 5,
   "id": "2760cb58-df4c-4366-9eeb-f34880d5a97c",
   "metadata": {},
   "outputs": [
    {
     "name": "stdout",
     "output_type": "stream",
     "text": [
      "Sum rate by FPlinQ: 2.3419111604536966\n"
     ]
    }
   ],
   "source": [
    "directLink_channel_losses = helper_functions.get_directLink_channel_losses(test_channel_losses)\n",
    "crossLink_channel_losses = helper_functions.get_crossLink_channel_losses(test_channel_losses)\n",
    "Y = FP(np.ones([test_layouts, test_K]), test_channel_losses, var_noise, np.ones([test_layouts, test_K, 1]))\n",
    "rates = helper_functions.compute_rates(var_noise, \n",
    "            Y, directLink_channel_losses, crossLink_channel_losses)\n",
    "sr = np.mean(np.sum(rates,axis=1))\n",
    "y_test = Y\n",
    "print('Sum rate by FPlinQ:', sr)"
   ]
  },
  {
   "cell_type": "markdown",
   "id": "1e844f0f-7b22-4e0b-a9eb-a482ba79ada6",
   "metadata": {},
   "source": [
    "#### Create Pytorch Dataset\n",
    "Please refer to https://docs.dgl.ai/guide/data.html for a tutorial for the usage of DGL dataset"
   ]
  },
  {
   "cell_type": "code",
   "execution_count": 6,
   "id": "4dc563f9-dc0b-447e-854b-06a4f826fd53",
   "metadata": {},
   "outputs": [],
   "source": [
    "class PCDataset(torch.utils.data.Dataset):\n",
    "    def __init__(self, data, labels):\n",
    "        'Initialization'\n",
    "        n = data.shape[0]\n",
    "        self.data = torch.tensor(np.sqrt(data.reshape(n,-1)), dtype = torch.float)\n",
    "        self.labels = torch.tensor(labels, dtype = torch.float)\n",
    "\n",
    "    def __len__(self):\n",
    "        'Denotes the total number of samples'\n",
    "        return len(self.data)\n",
    "\n",
    "    def __getitem__(self, index):\n",
    "        'Generates one sample of data'\n",
    "        # Select sample\n",
    "        X = self.data[index]\n",
    "        y = self.labels[index]\n",
    "        return X, y"
   ]
  },
  {
   "cell_type": "code",
   "execution_count": 7,
   "id": "6a6d4048-8561-4a32-9ac9-79064b37f613",
   "metadata": {},
   "outputs": [],
   "source": [
    "train_data = PCDataset(train_channel_losses, y_train)\n",
    "test_data = PCDataset(test_channel_losses, y_test)"
   ]
  },
  {
   "cell_type": "code",
   "execution_count": 8,
   "id": "ddab39a4-b466-42bb-b942-214fbc4a079b",
   "metadata": {},
   "outputs": [],
   "source": [
    "batch_size = 64\n",
    "train_loader = DataLoader(train_data, batch_size, shuffle=True)\n",
    "test_loader = DataLoader(test_data, 2000, shuffle=False)"
   ]
  },
  {
   "cell_type": "markdown",
   "id": "33e8ce15-1b59-492e-85f0-b33c432c37be",
   "metadata": {},
   "source": [
    "## Build Neural Networks\n",
    "The activation functions follows [1]."
   ]
  },
  {
   "cell_type": "code",
   "execution_count": 10,
   "id": "fd1f760b-c976-4e62-936b-5bcf03aeaf44",
   "metadata": {},
   "outputs": [],
   "source": [
    "from torch.nn import Sequential as Seq, Linear as Lin, ReLU, Sigmoid, BatchNorm1d as BN, ReLU6 as ReLU6\n",
    "def MLP(channels, batch_norm=True):\n",
    "    return Seq(*[\n",
    "        Seq(Lin(channels[i - 1], channels[i]), ReLU(), BN(channels[i]))\n",
    "        for i in range(1, len(channels))\n",
    "    ])"
   ]
  },
  {
   "cell_type": "code",
   "execution_count": 11,
   "id": "435351cc-aeef-4b25-aaf0-711bd5a3ca29",
   "metadata": {},
   "outputs": [],
   "source": [
    "class PCNet(torch.nn.Module):\n",
    "    def __init__(self):\n",
    "        super(PCNet, self).__init__()\n",
    "        self.mlp = MLP([train_K**2, 400, 400])\n",
    "        self.mlp = Seq(*[self.mlp,Seq(Lin(400, train_K), ReLU6())])\n",
    "\n",
    "    def forward(self, data):\n",
    "        return self.mlp(data)/6"
   ]
  },
  {
   "cell_type": "code",
   "execution_count": 12,
   "id": "792f828a-cd88-4592-baf5-a67ba494ac72",
   "metadata": {},
   "outputs": [],
   "source": [
    "def train(epoch):\n",
    "    \"\"\" Train for one epoch. \"\"\"\n",
    "    model.train()\n",
    "    loss_all = 0\n",
    "    for batch_idx, (x_train, y_train) in enumerate(train_loader):\n",
    "        #data = data.to(device)\n",
    "        optimizer.zero_grad()\n",
    "        output = model(x_train)\n",
    "        loss = F.mse_loss(output, y_train)\n",
    "        loss.backward()\n",
    "        loss_all += loss.item() * len(x_train)\n",
    "        optimizer.step()\n",
    "    return loss_all / len(train_loader.dataset)"
   ]
  },
  {
   "cell_type": "code",
   "execution_count": 13,
   "id": "174be403-8e48-41fa-88af-b3ff6d111aca",
   "metadata": {},
   "outputs": [],
   "source": [
    "def test(loader, test_mode = False):\n",
    "    model.eval()\n",
    "    mse = nmse = 0\n",
    "    sr = 0\n",
    "    for (x_test, y_test) in loader:\n",
    "        #data = data.to(device)\n",
    "        output = model(x_test)\n",
    "        loss = F.mse_loss(output, y_test)*train_K\n",
    "        mse += loss.item() * len(x_test)\n",
    "        if test_mode:\n",
    "            nmse += (((output - y_test)**2).sum(axis = -1)/(y_test**2).sum(axis = -1)).sum().item()\n",
    "            output[output > 0.5] = 1\n",
    "            output[output < 0.5] = 0\n",
    "            rates = helper_functions.compute_rates(var_noise, \n",
    "                    output.detach().numpy(), directLink_channel_losses, crossLink_channel_losses)\n",
    "            sr += np.mean(np.sum(rates,axis=1)) * len(x_test)\n",
    "    if test_mode:\n",
    "        return mse / len(loader.dataset), nmse / len(loader.dataset), sr/len(loader.dataset)\n",
    "    return mse / len(loader.dataset)"
   ]
  },
  {
   "cell_type": "code",
   "execution_count": 14,
   "id": "63b96538-c594-4777-9b9c-2f4205add7be",
   "metadata": {},
   "outputs": [],
   "source": [
    "model = PCNet()\n",
    "optimizer = torch.optim.Adam(model.parameters(), lr=0.001)\n",
    "scheduler = torch.optim.lr_scheduler.StepLR(optimizer, step_size=20, gamma=0.9)"
   ]
  },
  {
   "cell_type": "code",
   "execution_count": 15,
   "id": "5463d9e7-1e4d-448b-8cb9-fddf44b5ce5f",
   "metadata": {},
   "outputs": [
    {
     "name": "stdout",
     "output_type": "stream",
     "text": [
      "Epoch 000, Train Loss: 4.7432, Val MSE: 4.7368, Val NMSE: 0.9844, Val Rate: 0.0000\n",
      "Epoch 001, Train Loss: 1.8171, Val MSE: 1.9915, Val NMSE: 0.4265, Val Rate: 2.0861\n",
      "Epoch 002, Train Loss: 1.6824, Val MSE: 1.8998, Val NMSE: 0.4065, Val Rate: 2.1032\n",
      "Epoch 003, Train Loss: 1.5864, Val MSE: 1.8863, Val NMSE: 0.4044, Val Rate: 2.1122\n",
      "Epoch 004, Train Loss: 1.4735, Val MSE: 1.8399, Val NMSE: 0.3937, Val Rate: 2.1251\n",
      "Epoch 005, Train Loss: 1.4128, Val MSE: 1.8761, Val NMSE: 0.4016, Val Rate: 2.1251\n",
      "Epoch 006, Train Loss: 1.3307, Val MSE: 1.9013, Val NMSE: 0.4072, Val Rate: 2.1195\n",
      "Epoch 007, Train Loss: 1.2251, Val MSE: 1.8897, Val NMSE: 0.4046, Val Rate: 2.1210\n",
      "Epoch 008, Train Loss: 1.1508, Val MSE: 1.9205, Val NMSE: 0.4122, Val Rate: 2.1225\n",
      "Epoch 009, Train Loss: 1.0864, Val MSE: 1.9558, Val NMSE: 0.4189, Val Rate: 2.1153\n",
      "Epoch 010, Train Loss: 1.0395, Val MSE: 2.0032, Val NMSE: 0.4292, Val Rate: 2.1106\n",
      "Epoch 011, Train Loss: 0.9559, Val MSE: 2.0127, Val NMSE: 0.4330, Val Rate: 2.1136\n",
      "Epoch 012, Train Loss: 0.9061, Val MSE: 2.0319, Val NMSE: 0.4350, Val Rate: 2.1126\n",
      "Epoch 013, Train Loss: 0.8631, Val MSE: 2.0585, Val NMSE: 0.4404, Val Rate: 2.1101\n",
      "Epoch 014, Train Loss: 0.7531, Val MSE: 2.0727, Val NMSE: 0.4437, Val Rate: 2.1115\n",
      "Epoch 015, Train Loss: 0.7574, Val MSE: 2.1167, Val NMSE: 0.4547, Val Rate: 2.1089\n",
      "Epoch 016, Train Loss: 0.7363, Val MSE: 2.1692, Val NMSE: 0.4657, Val Rate: 2.1009\n",
      "Epoch 017, Train Loss: 0.6585, Val MSE: 2.1472, Val NMSE: 0.4589, Val Rate: 2.1043\n",
      "Epoch 018, Train Loss: 0.6203, Val MSE: 2.1808, Val NMSE: 0.4685, Val Rate: 2.1031\n",
      "Epoch 019, Train Loss: 0.5897, Val MSE: 2.2207, Val NMSE: 0.4762, Val Rate: 2.1017\n"
     ]
    }
   ],
   "source": [
    "record = []\n",
    "for epoch in range(0, 20):\n",
    "    if(epoch % 1 == 0):\n",
    "        with torch.no_grad():\n",
    "            loss = test(train_loader)\n",
    "            mse, nmse, rate = test(test_loader, True)\n",
    "            print('Epoch {:03d}, Train Loss: {:.4f}, Val MSE: {:.4f}, Val NMSE: {:.4f}, Val Rate: {:.4f}'.format(\n",
    "                epoch, loss, mse, nmse, rate))\n",
    "            record.append([loss,mse,nmse,rate])\n",
    "    train(epoch)\n",
    "    scheduler.step()\n"
   ]
  },
  {
   "cell_type": "markdown",
   "id": "cea680a4-9145-4c5e-957a-703901c316d5",
   "metadata": {},
   "source": [
    "## References\n",
    "[1] H. Sun, X. Chen, Q. Shi, M. Hong, X. Fu, and N. D. Sidiropoulos, “Learning to optimize: Training deep neural networks for interference management,” IEEE Trans. Signal Process., vol. 66, pp. 5438 – 5453, Oct. 2018.\n",
    "[2]  W. Cui, K. Shen, and W. Yu, “Spatial deep learning for wireless scheduling,” IEEE J. Sel. Areas Commun., vol. 37, Jun. 2019."
   ]
  },
  {
   "cell_type": "code",
   "execution_count": null,
   "id": "156538ca-5279-4c36-898c-d6005d4c4346",
   "metadata": {},
   "outputs": [],
   "source": []
  }
 ],
 "metadata": {
  "environment": {
   "kernel": "python3",
   "name": "pytorch-gpu.1-9.m82",
   "type": "gcloud",
   "uri": "gcr.io/deeplearning-platform-release/pytorch-gpu.1-9:m82"
  },
  "kernelspec": {
   "display_name": "Python 3",
   "language": "python",
   "name": "python3"
  },
  "language_info": {
   "codemirror_mode": {
    "name": "ipython",
    "version": 3
   },
   "file_extension": ".py",
   "mimetype": "text/x-python",
   "name": "python",
   "nbconvert_exporter": "python",
   "pygments_lexer": "ipython3",
   "version": "3.7.10"
  }
 },
 "nbformat": 4,
 "nbformat_minor": 5
}
