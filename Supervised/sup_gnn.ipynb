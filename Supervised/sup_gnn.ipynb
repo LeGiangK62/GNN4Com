{
 "cells": [
  {
   "cell_type": "code",
   "execution_count": 1,
   "id": "eed2a21b-6076-4018-bbe6-31b1c5578b9c",
   "metadata": {},
   "outputs": [
    {
     "name": "stderr",
     "output_type": "stream",
     "text": [
      "Using backend: pytorch\n"
     ]
    }
   ],
   "source": [
    "import numpy as np\n",
    "import torch\n",
    "import helper_functions\n",
    "from FPLinQ import FP_optimize, FP\n",
    "from torch.utils.data import Dataset, DataLoader\n",
    "import torch.nn.functional as F\n",
    "from dgl.data import DGLDataset\n",
    "import dgl\n",
    "import dgl.function as fn\n",
    "import torch.nn as nn\n",
    "from torch.nn import Sequential as Seq, Linear as Lin, ReLU, Sigmoid, BatchNorm1d as BN, ReLU6 as ReLU6"
   ]
  },
  {
   "cell_type": "markdown",
   "id": "8deacddf-3f89-4709-be6e-b150b44ccacb",
   "metadata": {},
   "source": [
    "## Create Dataset"
   ]
  },
  {
   "cell_type": "markdown",
   "id": "d90a7f6b-c9dc-4168-a298-f121a973de32",
   "metadata": {},
   "source": [
    "#### Define system parameters"
   ]
  },
  {
   "cell_type": "code",
   "execution_count": 2,
   "id": "8bea6cde-3f03-43f2-9cac-633a9d4e8ee5",
   "metadata": {},
   "outputs": [],
   "source": [
    "train_K = 20\n",
    "test_K = 20\n",
    "train_layouts = 20000\n",
    "test_layouts = 2000\n",
    "var_noise = 1\n",
    "c = 1/np.sqrt(2)"
   ]
  },
  {
   "cell_type": "markdown",
   "id": "ae73e8ab-4f82-4ff2-b932-7632e8aa4239",
   "metadata": {},
   "source": [
    "#### Generate Channel\n",
    "We follow [1] to generate channel matrices"
   ]
  },
  {
   "cell_type": "code",
   "execution_count": 23,
   "id": "9fd0f0b5-cb64-4842-879b-ff21a1d5a013",
   "metadata": {},
   "outputs": [],
   "source": [
    "train_channel_losses = np.abs(c * np.random.randn(train_layouts, train_K, train_K) + c * 1j * np.random.randn(train_layouts, train_K, train_K))\n",
    "test_channel_losses = np.abs(c * np.random.randn(test_layouts, test_K, test_K) + c * 1j * np.random.randn(test_layouts, test_K, test_K))"
   ]
  },
  {
   "cell_type": "markdown",
   "id": "3306d9d4-48c1-4df9-be50-c44e68bd8372",
   "metadata": {},
   "source": [
    "#### Compute the label for training and test dataset via FPLinQ\n",
    "The code for FPlinQ is copied from [2] https://github.com/willtop/Spatial_Deep_Learning_for_Wireless_Scheduling"
   ]
  },
  {
   "cell_type": "code",
   "execution_count": 4,
   "id": "1fbb03ad-1d54-480b-af61-34c49020af08",
   "metadata": {},
   "outputs": [],
   "source": [
    "## Get direct channel CSI, i.e., diag part of channel matrix\n",
    "directLink_channel_losses = helper_functions.get_directLink_channel_losses(train_channel_losses)\n",
    "## Get interference channel CSI, i.e., off-diag part of channel matrix\n",
    "crossLink_channel_losses = helper_functions.get_crossLink_channel_losses(train_channel_losses)\n",
    "Y = FP(np.ones([train_layouts, train_K]), train_channel_losses, var_noise, np.ones([train_layouts, train_K, 1]))\n",
    "rates = helper_functions.compute_rates(var_noise, \n",
    "            Y, directLink_channel_losses, crossLink_channel_losses)\n",
    "sr = np.mean(np.sum(rates,axis=1))\n",
    "y_train = Y"
   ]
  },
  {
   "cell_type": "code",
   "execution_count": 5,
   "id": "3a678505-028e-4a2d-b152-4b576e7baec1",
   "metadata": {},
   "outputs": [
    {
     "name": "stdout",
     "output_type": "stream",
     "text": [
      "Sum rate by FPlinQ: 2.355823374907156\n"
     ]
    }
   ],
   "source": [
    "directLink_channel_losses = helper_functions.get_directLink_channel_losses(test_channel_losses)\n",
    "crossLink_channel_losses = helper_functions.get_crossLink_channel_losses(test_channel_losses)\n",
    "Y = FP(np.ones([test_layouts, test_K]), test_channel_losses, var_noise, np.ones([test_layouts, test_K, 1]))\n",
    "rates = helper_functions.compute_rates(var_noise, \n",
    "            Y, directLink_channel_losses, crossLink_channel_losses)\n",
    "sr = np.mean(np.sum(rates,axis=1))\n",
    "y_test = Y\n",
    "print('Sum rate by FPlinQ:', sr)"
   ]
  },
  {
   "cell_type": "markdown",
   "id": "876c020b-3908-44bc-9d21-d6a6f5a4a9c0",
   "metadata": {},
   "source": [
    "#### Create DGL Dataset\n",
    "Please refer to https://docs.dgl.ai/guide/data.html for a tutorial for the usage of DGL dataset"
   ]
  },
  {
   "cell_type": "code",
   "execution_count": 6,
   "id": "52baae2c-baa7-4cca-b6f2-bc82f6f0eacf",
   "metadata": {},
   "outputs": [],
   "source": [
    "class PCDataset(DGLDataset):\n",
    "    def __init__(self, csi, label):\n",
    "        self.data = csi\n",
    "        self.label = np.expand_dims(label, axis = -1)\n",
    "        self.get_cg()\n",
    "        super().__init__(name='power_control')\n",
    "        \n",
    "        \n",
    "    def build_graph(self, idx): \n",
    "        H = self.data[idx,:,:]\n",
    "        \n",
    "        graph = dgl.graph(self.adj, num_nodes=train_K)\n",
    "        \n",
    "        node_features = torch.tensor(np.expand_dims(np.diag(H),axis=1), dtype = torch.float)\n",
    "        ## Node feature of the k-th node is the direct link channel of k-th pair\n",
    "        node_labels = torch.tensor(self.label[idx,:,:], dtype = torch.float)\n",
    "        ## Node label is the power obtained by FPlinQ\n",
    "        \n",
    "        edge_features  = []\n",
    "        for e in self.adj:\n",
    "            edge_features.append([H[e[0],e[1]],H[e[1],e[0]]])\n",
    "        ## Edge feature between node e[0] and e[1] is the interference channel between e[0]-th pair and e[1]-th pair\n",
    "\n",
    "        graph.ndata['feat'] = node_features\n",
    "        graph.ndata['label'] = node_labels\n",
    "        graph.edata['feat'] = torch.tensor(edge_features, dtype = torch.float)\n",
    "        return graph\n",
    "    \n",
    "    def get_cg(self):\n",
    "        ## The graph is a complete graph\n",
    "        self.adj = []\n",
    "        for i in range(0,train_K):\n",
    "            for j in range(0,train_K):\n",
    "                if(not(i==j)):\n",
    "                    self.adj.append([i,j])\n",
    "                    \n",
    "    def __len__(self):\n",
    "        'Denotes the total number of samples'\n",
    "        return len(self.data)\n",
    "\n",
    "    def __getitem__(self, index):\n",
    "        'Generates one sample of data'\n",
    "        # Select sample\n",
    "        return self.graph_list[index]\n",
    "\n",
    "    def process(self):\n",
    "        n = len(self.data)\n",
    "        self.graph_list = []\n",
    "        for i in range(n):\n",
    "            graph = self.build_graph(i)\n",
    "            self.graph_list.append(graph)"
   ]
  },
  {
   "cell_type": "code",
   "execution_count": 7,
   "id": "862401d3-5b63-49e8-b1a9-13e00cf7eb4f",
   "metadata": {},
   "outputs": [],
   "source": [
    "# Please refer to https://docs.dgl.ai/en/0.2.x/tutorials/basics/4_batch.html for details of collate\n",
    "def collate(samples):\n",
    "    '''DGL collate function'''\n",
    "    graphs = samples\n",
    "    batched_graph = dgl.batch(graphs)\n",
    "    return batched_graph"
   ]
  },
  {
   "cell_type": "code",
   "execution_count": 8,
   "id": "da6f37d5-4329-4883-8263-b8596d75452f",
   "metadata": {},
   "outputs": [],
   "source": [
    "train_data = PCDataset(train_channel_losses, y_train)\n",
    "test_data = PCDataset(test_channel_losses, y_test)"
   ]
  },
  {
   "cell_type": "code",
   "execution_count": 9,
   "id": "2f23a431-c1fa-475f-a810-e3b0f4eea9a2",
   "metadata": {},
   "outputs": [],
   "source": [
    "batch_size = 64\n",
    "train_loader = DataLoader(train_data, batch_size, shuffle=True, collate_fn=collate)\n",
    "test_loader = DataLoader(test_data, test_layouts, shuffle=False, collate_fn=collate)"
   ]
  },
  {
   "cell_type": "markdown",
   "id": "4dd70237-b091-4986-8510-68a654fbfe6b",
   "metadata": {},
   "source": [
    "## Build Graph Neural Networks"
   ]
  },
  {
   "cell_type": "markdown",
   "id": "a412de68-cce1-4c06-bd78-48340fd7ae0c",
   "metadata": {},
   "source": [
    "#### Message Passing Modules \n",
    "Please refer to https://docs.dgl.ai/guide/message-api.html for the usage of DGL message-passing"
   ]
  },
  {
   "cell_type": "code",
   "execution_count": 10,
   "id": "eb73457d-3cdf-4337-ad58-a222b65e40e6",
   "metadata": {},
   "outputs": [],
   "source": [
    "def MLP(channels, batch_norm=True):\n",
    "    return Seq(*[\n",
    "        Seq(Lin(channels[i - 1], channels[i]), ReLU(), BN(channels[i]))\n",
    "        for i in range(1, len(channels))\n",
    "    ])\n",
    "class EdgeConv(nn.Module):\n",
    "    def __init__(self, mlp, **kwargs):\n",
    "        super(EdgeConv, self).__init__()\n",
    "        self.mlp = mlp\n",
    "        #self.reset_parameters()\n",
    "\n",
    "    def concat_message_function(self, edges):\n",
    "        return {'out': torch.cat([edges.src['hid'], edges.dst['hid'], edges.data['feat']], axis=1)}\n",
    "    \n",
    "    def forward(self, g):\n",
    "        g.apply_edges(self.concat_message_function)\n",
    "        g.edata['out'] = self.mlp(g.edata['out'])\n",
    "        g.update_all(fn.copy_edge('out', 'm'),\n",
    "                     fn.max('m', 'hid'))"
   ]
  },
  {
   "cell_type": "markdown",
   "id": "1a8dc7f9-1d79-4d2c-9667-6ad7309f1240",
   "metadata": {},
   "source": [
    "#### GNN Modules \n",
    "Please refer to https://docs.dgl.ai/guide/nn-construction.html#guide-nn-construction for detailed DGL GNN"
   ]
  },
  {
   "cell_type": "code",
   "execution_count": 11,
   "id": "311f2b4e-5d3e-4e57-9501-10aed8a542d9",
   "metadata": {},
   "outputs": [],
   "source": [
    "class GCN(torch.nn.Module):\n",
    "    def __init__(self):\n",
    "        super(GCN, self).__init__()\n",
    "        self.conv1 = EdgeConv(MLP([4, 16, 16]))\n",
    "        self.conv2 = EdgeConv(MLP([2*16+2, 32]))\n",
    "        self.mlp = MLP([32, 16])\n",
    "        self.mlp = Seq(*[self.mlp, Seq(Lin(16, 1), ReLU6())])\n",
    "\n",
    "    def forward(self, g):\n",
    "        g.ndata['hid'] = g.ndata['feat']\n",
    "        self.conv1(g)\n",
    "        self.conv2(g)\n",
    "        out = self.mlp(g.ndata['hid'])\n",
    "        return out/6"
   ]
  },
  {
   "cell_type": "code",
   "execution_count": 12,
   "id": "11d0e305-28d8-4299-980b-d1c9e4f45202",
   "metadata": {},
   "outputs": [],
   "source": [
    "model = GCN()\n",
    "optimizer = torch.optim.Adam(model.parameters(), lr=0.001)\n",
    "#scheduler = torch.optim.lr_scheduler.StepLR(optimizer, step_size=20, gamma=0.9)"
   ]
  },
  {
   "cell_type": "markdown",
   "id": "64302910-32a6-4d15-9813-86bb05397823",
   "metadata": {},
   "source": [
    "## Training and Test\n",
    "The training is similar to the node regression task, please refer to https://docs.dgl.ai/en/0.6.x/guide/training-node.html for DGL node regression training"
   ]
  },
  {
   "cell_type": "code",
   "execution_count": 13,
   "id": "cc1d6695-323d-4c5a-a64a-7e1c0e8bdf66",
   "metadata": {},
   "outputs": [],
   "source": [
    "def train(epoch):\n",
    "    \"\"\" Train for one epoch. \"\"\"\n",
    "    model.train()\n",
    "    loss_all = 0\n",
    "    for batch_idx, g in enumerate(train_loader):\n",
    "        #data = data.to(device)\n",
    "        optimizer.zero_grad()\n",
    "        output = model(g)\n",
    "        loss = F.mse_loss(output, g.ndata['label'])\n",
    "        loss.backward()\n",
    "        loss_all += loss.item() * len(g.ndata['feat'])\n",
    "        optimizer.step()\n",
    "    return loss_all / len(train_loader.dataset)"
   ]
  },
  {
   "cell_type": "code",
   "execution_count": 21,
   "id": "b1a3f4b0-6f4d-4d3b-ba53-b9a1e0791e41",
   "metadata": {},
   "outputs": [],
   "source": [
    "def test(loader, test_mode = False):\n",
    "    model.eval()\n",
    "    mse = nmse = sr = 0\n",
    "    for g in loader:\n",
    "        n = len(g.ndata['feat'])\n",
    "        bs = len(g.ndata['feat'])//train_K\n",
    "        output = model(g).reshape(bs,-1)\n",
    "        y_test = g.ndata['label'].reshape(bs,-1)\n",
    "        loss = F.mse_loss(output, y_test)\n",
    "        mse += loss.item() * bs\n",
    "        if test_mode:\n",
    "            nmse += (((output - y_test)**2).sum(axis = -1)/(y_test**2).sum(axis = -1)).sum().item()\n",
    "            # Truncate operation, which is used in \n",
    "            output[output > 0.5] = 1 \n",
    "            output[output < 0.5] = 0\n",
    "            rates = helper_functions.compute_rates(var_noise, \n",
    "                    output.detach().numpy(), directLink_channel_losses, crossLink_channel_losses)\n",
    "            sr += np.mean(np.sum(rates,axis=1)) * bs\n",
    "    if test_mode:\n",
    "        return mse / len(loader.dataset), nmse / len(loader.dataset), sr/len(loader.dataset)\n",
    "    return mse / len(loader.dataset)"
   ]
  },
  {
   "cell_type": "code",
   "execution_count": 22,
   "id": "44d8d0d9-e944-4def-b173-802d16859b96",
   "metadata": {},
   "outputs": [
    {
     "name": "stdout",
     "output_type": "stream",
     "text": [
      "Epoch 000, Train Loss: 0.0475, Val MSE: 0.0478, Val NMSE: 0.1982, Val Rate: 2.3112\n",
      "Epoch 001, Train Loss: 0.0502, Val MSE: 0.0502, Val NMSE: 0.2018, Val Rate: 2.3204\n",
      "Epoch 002, Train Loss: 0.0486, Val MSE: 0.0486, Val NMSE: 0.1965, Val Rate: 2.3229\n",
      "Epoch 003, Train Loss: 0.0472, Val MSE: 0.0475, Val NMSE: 0.1949, Val Rate: 2.3166\n",
      "Epoch 004, Train Loss: 0.0472, Val MSE: 0.0474, Val NMSE: 0.1947, Val Rate: 2.3163\n",
      "Epoch 005, Train Loss: 0.0473, Val MSE: 0.0478, Val NMSE: 0.2002, Val Rate: 2.3079\n",
      "Epoch 006, Train Loss: 0.0501, Val MSE: 0.0510, Val NMSE: 0.2179, Val Rate: 2.2860\n",
      "Epoch 007, Train Loss: 0.0467, Val MSE: 0.0471, Val NMSE: 0.1961, Val Rate: 2.3107\n",
      "Epoch 008, Train Loss: 0.0474, Val MSE: 0.0479, Val NMSE: 0.2027, Val Rate: 2.3020\n",
      "Epoch 009, Train Loss: 0.0480, Val MSE: 0.0486, Val NMSE: 0.2048, Val Rate: 2.2997\n",
      "Epoch 010, Train Loss: 0.0468, Val MSE: 0.0470, Val NMSE: 0.1924, Val Rate: 2.3180\n",
      "Epoch 011, Train Loss: 0.0465, Val MSE: 0.0469, Val NMSE: 0.1939, Val Rate: 2.3130\n",
      "Epoch 012, Train Loss: 0.0463, Val MSE: 0.0468, Val NMSE: 0.1944, Val Rate: 2.3113\n",
      "Epoch 013, Train Loss: 0.0469, Val MSE: 0.0477, Val NMSE: 0.2004, Val Rate: 2.3076\n",
      "Epoch 014, Train Loss: 0.0470, Val MSE: 0.0473, Val NMSE: 0.1994, Val Rate: 2.3000\n",
      "Epoch 015, Train Loss: 0.0462, Val MSE: 0.0467, Val NMSE: 0.1938, Val Rate: 2.3125\n",
      "Epoch 016, Train Loss: 0.0461, Val MSE: 0.0463, Val NMSE: 0.1912, Val Rate: 2.3153\n",
      "Epoch 017, Train Loss: 0.0512, Val MSE: 0.0519, Val NMSE: 0.2235, Val Rate: 2.2792\n",
      "Epoch 018, Train Loss: 0.0463, Val MSE: 0.0466, Val NMSE: 0.1959, Val Rate: 2.3043\n",
      "Epoch 019, Train Loss: 0.0472, Val MSE: 0.0470, Val NMSE: 0.1899, Val Rate: 2.3224\n"
     ]
    }
   ],
   "source": [
    "record = []\n",
    "for epoch in range(0, 20):\n",
    "    if(epoch % 1 == 0):\n",
    "        loss = test(train_loader)\n",
    "        mse, nmse, rate = test(test_loader, True)\n",
    "        print('Epoch {:03d}, Train Loss: {:.4f}, Val MSE: {:.4f}, Val NMSE: {:.4f}, Val Rate: {:.4f}'.format(\n",
    "            epoch, loss, mse, nmse, rate))\n",
    "        record.append([loss,mse,nmse,rate])\n",
    "    train(epoch)\n",
    "    #scheduler.step()"
   ]
  },
  {
   "cell_type": "markdown",
   "id": "be3cb9c4-a680-47e2-8bba-804b5315d0db",
   "metadata": {},
   "source": [
    "## References\n",
    "[1] H. Sun, X. Chen, Q. Shi, M. Hong, X. Fu, and N. D. Sidiropoulos, “Learning to optimize: Training deep neural networks for interference management,” IEEE Trans. Signal Process., vol. 66, pp. 5438 – 5453, Oct. 2018.\n",
    "[2]  W. Cui, K. Shen, and W. Yu, “Spatial deep learning for wireless scheduling,” IEEE J. Sel. Areas Commun., vol. 37, Jun. 2019."
   ]
  },
  {
   "cell_type": "code",
   "execution_count": null,
   "id": "a977df06-dd0c-4da3-b279-9fe72daee6c8",
   "metadata": {},
   "outputs": [],
   "source": []
  }
 ],
 "metadata": {
  "environment": {
   "kernel": "python3",
   "name": "pytorch-gpu.1-9.m82",
   "type": "gcloud",
   "uri": "gcr.io/deeplearning-platform-release/pytorch-gpu.1-9:m82"
  },
  "kernelspec": {
   "display_name": "Python 3",
   "language": "python",
   "name": "python3"
  },
  "language_info": {
   "codemirror_mode": {
    "name": "ipython",
    "version": 3
   },
   "file_extension": ".py",
   "mimetype": "text/x-python",
   "name": "python",
   "nbconvert_exporter": "python",
   "pygments_lexer": "ipython3",
   "version": "3.7.10"
  }
 },
 "nbformat": 4,
 "nbformat_minor": 5
}
