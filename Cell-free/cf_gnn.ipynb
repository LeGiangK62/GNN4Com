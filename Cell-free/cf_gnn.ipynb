{
 "cells": [
  {
   "cell_type": "code",
   "execution_count": 1,
   "id": "3f258b92-08d7-4a72-b4d4-07ee804cd315",
   "metadata": {},
   "outputs": [
    {
     "name": "stderr",
     "output_type": "stream",
     "text": [
      "Using backend: pytorch\n"
     ]
    }
   ],
   "source": [
    "import numpy as np\n",
    "import torch\n",
    "from torch.utils.data import Dataset, DataLoader\n",
    "import torch.nn.functional as F\n",
    "from dgl.data import DGLDataset\n",
    "import dgl\n",
    "import dgl.function as fn\n",
    "import torch.nn as nn\n",
    "from torch.nn import Sequential as Seq, Linear as Lin, ReLU, ELU, Sigmoid, BatchNorm1d as BN, ReLU6 as ReLU6\n",
    "import scipy.io"
   ]
  },
  {
   "cell_type": "markdown",
   "id": "65f9715f-484f-4799-98b3-53c0de5eb401",
   "metadata": {},
   "source": [
    "## Load and Normalize Data"
   ]
  },
  {
   "cell_type": "code",
   "execution_count": 2,
   "id": "739b73db-3a52-4eb2-a922-6a5e81973927",
   "metadata": {},
   "outputs": [],
   "source": [
    "train_layouts = 10000\n",
    "test_layouts = 200"
   ]
  },
  {
   "cell_type": "code",
   "execution_count": 3,
   "id": "3b84f962-706c-46fa-9ef5-a5da029a0ee5",
   "metadata": {},
   "outputs": [],
   "source": [
    "data = scipy.io.loadmat('cf_train_6_30.mat')\n",
    "beta_train = data['betas'][:train_layouts]\n",
    "direct_train = data['directs'][:train_layouts]\n",
    "cross_train = data['corsses'][:train_layouts].transpose(0,2,1)"
   ]
  },
  {
   "cell_type": "code",
   "execution_count": 4,
   "id": "a846c610-7db3-4695-babf-1511dceb074f",
   "metadata": {},
   "outputs": [],
   "source": [
    "test_data = scipy.io.loadmat('cf_test_6_30.mat')\n",
    "beta_test = test_data['betas']\n",
    "direct_test = test_data['directs']\n",
    "cross_test = test_data['corsses'].transpose(0,2,1)"
   ]
  },
  {
   "cell_type": "code",
   "execution_count": 5,
   "id": "6bc16ce2-2a0e-4c5b-91f9-bbc0256c0c3a",
   "metadata": {},
   "outputs": [],
   "source": [
    "def normalize_data(train_data,test_data):\n",
    "    train_mean = np.mean(train_data)\n",
    "    train_std = np.std(train_data)\n",
    "    norm_train = (train_data)/train_std\n",
    "    norm_test = (test_data)/train_std\n",
    "    n1, n2 = norm_train.shape[0], norm_test.shape[0]\n",
    "    return norm_train, norm_test\n",
    "norm_train_losses, norm_test_losses = normalize_data(beta_train**(1/2), beta_test**(1/2) )"
   ]
  },
  {
   "cell_type": "markdown",
   "id": "8dc89089-f74e-44f9-95ba-2b54039f04f7",
   "metadata": {},
   "source": [
    "## Create Dataset"
   ]
  },
  {
   "cell_type": "code",
   "execution_count": 6,
   "id": "af3d36ad-4b42-4e50-9dc1-7ed0402284ca",
   "metadata": {},
   "outputs": [],
   "source": [
    "train_K, train_M = beta_train.shape[2], beta_train.shape[1]\n",
    "test_K, test_M = beta_test.shape[2], beta_test.shape[1]"
   ]
  },
  {
   "cell_type": "markdown",
   "id": "0bdf56d4-d132-4356-9242-1c6cac2e7a6b",
   "metadata": {},
   "source": [
    "#### Create DGL Dataset\n",
    "The simplified message-passing scheme works on homogenous graph, so we follow https://docs.dgl.ai/guide/data.html"
   ]
  },
  {
   "cell_type": "code",
   "execution_count": 7,
   "id": "d2071667-f5fa-4e5e-b087-2b44774a1672",
   "metadata": {},
   "outputs": [],
   "source": [
    "class PCDataset(DGLDataset):\n",
    "    def __init__(self, norm_losses, direct, cross, KM):\n",
    "        self.norm_losses = norm_losses\n",
    "        self.direct = torch.tensor(direct, dtype = torch.float)\n",
    "        self.cross = torch.tensor(cross, dtype = torch.float)\n",
    "        self.KM = KM\n",
    "        self.get_cg()\n",
    "        super().__init__(name='power_control')\n",
    "        \n",
    "        \n",
    "    def build_graph(self, idx):\n",
    "        H = np.expand_dims(self.norm_losses[idx,:,:].T, axis = -1)\n",
    "        H_ones = 1/np.sqrt(self.KM[1]) * np.ones((self.KM[0], self.KM[1], 1))\n",
    "        graph = dgl.graph(self.adj, num_nodes=self.KM[0])\n",
    "        \n",
    "        node_features = torch.tensor(np.concatenate((H, H_ones), axis = -1), dtype = torch.float)\n",
    "        graph.ndata['feat'] = node_features\n",
    "        return graph\n",
    "    \n",
    "    def get_cg(self):\n",
    "        self.adj = []\n",
    "        for i in range(0,self.KM[0]):\n",
    "            for j in range(0,self.KM[0]):\n",
    "                    self.adj.append([i,j])\n",
    "                    \n",
    "    def __len__(self):\n",
    "        'Denotes the total number of samples'\n",
    "        return len(self.direct)\n",
    "\n",
    "    def __getitem__(self, index):\n",
    "        'Generates one sample of data'\n",
    "        # Select sample\n",
    "        return self.graph_list[index], self.direct[index], self.cross[index]\n",
    "\n",
    "    def process(self):\n",
    "        n = len(self.direct)\n",
    "        self.graph_list = []\n",
    "        for i in range(n):\n",
    "            graph = self.build_graph(i)\n",
    "            self.graph_list.append(graph)"
   ]
  },
  {
   "cell_type": "code",
   "execution_count": 8,
   "id": "f1cab149-0fc0-48f1-ab7b-60e9ce010a0a",
   "metadata": {},
   "outputs": [],
   "source": [
    "# Please refer to https://docs.dgl.ai/en/0.2.x/tutorials/basics/4_batch.html for details of collate\n",
    "def collate(samples):\n",
    "    # The input `samples` is a list of pairs\n",
    "    #  (graph, label).\n",
    "    graphs, direct, cross = map(list, zip(*samples))\n",
    "    batched_graph = dgl.batch(graphs)\n",
    "    return batched_graph, torch.stack(direct), torch.stack(cross)"
   ]
  },
  {
   "cell_type": "code",
   "execution_count": 9,
   "id": "47d4d3d4-f137-42a3-8f0e-490df6e4b508",
   "metadata": {},
   "outputs": [],
   "source": [
    "train_data = PCDataset(norm_train_losses, direct_train, cross_train, (train_K, train_M))\n",
    "test_data = PCDataset(norm_test_losses, direct_test, cross_test, (test_K, test_M))"
   ]
  },
  {
   "cell_type": "code",
   "execution_count": 10,
   "id": "87aacf82-780c-45bb-852d-193a1ea6c1ce",
   "metadata": {},
   "outputs": [],
   "source": [
    "batch_size = 64\n",
    "train_loader = DataLoader(train_data, batch_size, shuffle=True, collate_fn=collate)\n",
    "test_loader = DataLoader(test_data, test_layouts, shuffle=False, collate_fn=collate)"
   ]
  },
  {
   "cell_type": "markdown",
   "id": "7523d5c6-c574-405a-9885-28e882320626",
   "metadata": {},
   "source": [
    "## Build Graph Neural Networks"
   ]
  },
  {
   "cell_type": "markdown",
   "id": "9b7625f5-c464-4b1d-8e80-2e636e64c953",
   "metadata": {},
   "source": [
    "#### Define loss function\n",
    "The loss function is similar to D2D case, differs in two aspects:\n",
    "1. crosslink_channel_losses have diagonal part\n",
    "2. Take minimum instead of sum"
   ]
  },
  {
   "cell_type": "code",
   "execution_count": 11,
   "id": "f9ec34a9-36bb-46c9-8616-daf8c7bbae93",
   "metadata": {},
   "outputs": [],
   "source": [
    "def rate_loss(allocs, directlink_channel_losses, crosslink_channel_losses, test_mode = False):\n",
    "    SINRs_numerators = allocs * directlink_channel_losses**2\n",
    "    SINRs_denominators = torch.squeeze(torch.matmul(crosslink_channel_losses, torch.unsqueeze(allocs, axis=-1))) + directlink_channel_losses\n",
    "    SINRs = SINRs_numerators / SINRs_denominators\n",
    "    rates = torch.log2(1 + SINRs)\n",
    "    min_rate = torch.min(rates, dim = 1)[0]\n",
    "    if test_mode:\n",
    "        return min_rate\n",
    "    else:\n",
    "        return -torch.mean(min_rate)"
   ]
  },
  {
   "cell_type": "markdown",
   "id": "c63b0ae9-337e-4e48-8ee6-6d97e4a4f08a",
   "metadata": {},
   "source": [
    "#### Message Passing Modules\n",
    "The message-passing involves two parts.\n",
    "\n",
    "In 1st iteration, the message is passed from AP to UE. The function is AP2UE and is without DGL.\n",
    "\n",
    "The remaining message-passing is only between users, which is similar to D2D and follows https://docs.dgl.ai/guide/message-api.html"
   ]
  },
  {
   "cell_type": "code",
   "execution_count": 12,
   "id": "406b5a99-5e34-4803-8904-2bd50c474e13",
   "metadata": {},
   "outputs": [],
   "source": [
    "def MLP(channels, batch_norm=True):\n",
    "    if batch_norm:\n",
    "        return Seq(*[\n",
    "            Seq(Lin(channels[i - 1], channels[i]), ReLU(), BN(channels[i]))\n",
    "            for i in range(1, len(channels))\n",
    "        ])\n",
    "    else:\n",
    "        return Seq(*[\n",
    "            Seq(Lin(channels[i - 1], channels[i]), ReLU())\n",
    "            for i in range(1, len(channels))\n",
    "        ])"
   ]
  },
  {
   "cell_type": "code",
   "execution_count": 17,
   "id": "97d7cd5e-2e4e-4fe4-b6bb-0bf6344bb211",
   "metadata": {},
   "outputs": [],
   "source": [
    "class AP2UE(nn.Module):\n",
    "    def __init__(self, mlp, **kwargs):\n",
    "        super(AP2UE, self).__init__()\n",
    "        self.mlp = mlp\n",
    "        #self.reset_parameters()\n",
    "    \n",
    "    def forward(self, g):\n",
    "        g.ndata['feat'] = self.mlp(g.ndata['feat'])\n",
    "        g.ndata['hid'] = torch.mean(g.ndata['feat'], axis = 1)"
   ]
  },
  {
   "cell_type": "code",
   "execution_count": 18,
   "id": "62aa5a65-0ad8-41c8-8fce-81feff2760d9",
   "metadata": {},
   "outputs": [],
   "source": [
    "class EdgeConv(nn.Module):\n",
    "    def __init__(self, mlp, **kwargs):\n",
    "        super(EdgeConv, self).__init__()\n",
    "        self.mlp = mlp\n",
    "        #self.reset_parameters()\n",
    "\n",
    "    def concat_message_function(self, edges):\n",
    "        return {'out': torch.cat([edges.src['hid'], edges.dst['hid']], axis=1)}\n",
    "    \n",
    "    def forward(self, g):\n",
    "        g.apply_edges(self.concat_message_function)\n",
    "        g.edata['out'] = self.mlp(g.edata['out'])\n",
    "        g.update_all(fn.copy_edge('out', 'm'),\n",
    "                     fn.mean('m', 'hid'))"
   ]
  },
  {
   "cell_type": "code",
   "execution_count": 19,
   "id": "929ada12-5581-4ec2-97d1-8e685bb0f5c0",
   "metadata": {},
   "outputs": [],
   "source": [
    "class GCN(torch.nn.Module):\n",
    "    def __init__(self):\n",
    "        super(GCN, self).__init__()\n",
    "        self.emb = AP2UE(MLP([2, 32], batch_norm=False))\n",
    "        self.conv1 = EdgeConv(MLP([64, 32]))\n",
    "        self.conv2 = EdgeConv(MLP([64, 32]))\n",
    "        self.mlp = MLP([32, 16])\n",
    "        self.mlp = Seq(*[self.mlp, Seq(Lin(16, 1), Sigmoid())])\n",
    "\n",
    "    def forward(self, g):\n",
    "        self.emb(g)\n",
    "        self.conv1(g)\n",
    "        self.conv2(g)\n",
    "        out = self.mlp(g.ndata['hid'])\n",
    "        return out"
   ]
  },
  {
   "cell_type": "code",
   "execution_count": 20,
   "id": "7d8e0f4a-9f1a-4d8d-b292-9c86f262b1e2",
   "metadata": {},
   "outputs": [],
   "source": [
    "model = GCN()\n",
    "optimizer = torch.optim.Adam(model.parameters(), lr=5e-4)\n",
    "scheduler = torch.optim.lr_scheduler.StepLR(optimizer, step_size=20, gamma=0.9)"
   ]
  },
  {
   "cell_type": "markdown",
   "id": "612bdc50-0438-43b6-9100-bb750757c3ad",
   "metadata": {
    "tags": []
   },
   "source": [
    "## Training and Test\n",
    "The training is similar to the node regression task, please refer to https://docs.dgl.ai/en/0.6.x/guide/training-node.html for DGL node regression training"
   ]
  },
  {
   "cell_type": "code",
   "execution_count": 21,
   "id": "dbf129ac-28bc-46fd-8a70-37d405d51f5d",
   "metadata": {},
   "outputs": [],
   "source": [
    "def train(epoch):\n",
    "    \"\"\" Train for one epoch. \"\"\"\n",
    "    model.train()\n",
    "    loss_all = 0\n",
    "    for batch_idx, (g, d_train, c_train) in enumerate(train_loader):\n",
    "        #data = data.to(device)\n",
    "        K = d_train.shape[-1]\n",
    "        n = len(g.ndata['feat'])\n",
    "        bs = len(g.ndata['feat'])//K\n",
    "        \n",
    "        optimizer.zero_grad()\n",
    "        output = model(g).reshape(bs,-1)\n",
    "        loss = rate_loss(output, d_train, c_train)\n",
    "        loss.backward()\n",
    "        \n",
    "        loss_all += loss.item() * bs\n",
    "        optimizer.step()\n",
    "    return loss_all / len(train_loader.dataset)"
   ]
  },
  {
   "cell_type": "code",
   "execution_count": 22,
   "id": "66a50cf8-d281-4507-963b-172cf5bc6e79",
   "metadata": {},
   "outputs": [],
   "source": [
    "def test(loader):\n",
    "    model.eval()\n",
    "    correct = 0\n",
    "    for (g, d_test, c_test) in loader:\n",
    "        K = d_test.shape[-1]\n",
    "        n = len(g.ndata['feat'])\n",
    "        bs = len(g.ndata['feat'])//K\n",
    "        #data = data.to(device)\n",
    "        output = model(g).reshape(bs,-1)\n",
    "        loss = rate_loss(output, d_test, c_test)\n",
    "        correct += loss.item() * bs\n",
    "    return correct / len(loader.dataset)"
   ]
  },
  {
   "cell_type": "code",
   "execution_count": 23,
   "id": "b0dc9c90-eb64-4873-a77a-3fea77213cf9",
   "metadata": {},
   "outputs": [
    {
     "name": "stdout",
     "output_type": "stream",
     "text": [
      "Epoch 000, Train Rate: -0.5384, Test Rate: -0.5186\n",
      "Epoch 005, Train Rate: -1.0593, Test Rate: -1.0696\n",
      "Epoch 010, Train Rate: -1.0648, Test Rate: -1.0785\n",
      "Epoch 015, Train Rate: -1.0671, Test Rate: -1.0770\n",
      "Epoch 020, Train Rate: -1.0655, Test Rate: -1.0739\n",
      "Epoch 025, Train Rate: -1.0691, Test Rate: -1.0818\n",
      "Epoch 030, Train Rate: -1.0591, Test Rate: -1.0650\n",
      "Epoch 035, Train Rate: -1.0656, Test Rate: -1.0776\n",
      "Epoch 040, Train Rate: -1.0700, Test Rate: -1.0810\n",
      "Epoch 045, Train Rate: -1.0713, Test Rate: -1.0794\n"
     ]
    }
   ],
   "source": [
    "record = []\n",
    "for epoch in range(0, 50):\n",
    "    if(epoch % 5 == 0):\n",
    "        with torch.no_grad():\n",
    "            train_rate = test(train_loader)\n",
    "            test_rate = test(test_loader)\n",
    "        print('Epoch {:03d}, Train Rate: {:.4f}, Test Rate: {:.4f}'.format(\n",
    "            epoch, train_rate, test_rate))\n",
    "        record.append([train_rate, test_rate])\n",
    "    train(epoch)\n",
    "    scheduler.step()"
   ]
  },
  {
   "cell_type": "markdown",
   "id": "97533afc-63ab-4614-a846-a8327e078c43",
   "metadata": {},
   "source": [
    "## Plot CDF"
   ]
  },
  {
   "cell_type": "code",
   "execution_count": 26,
   "id": "c8453e31-4e01-4136-9913-7df011ce2b46",
   "metadata": {},
   "outputs": [],
   "source": [
    "## For CDF Plot\n",
    "import matplotlib.pyplot as plt\n",
    "for (g, d_test, c_test) in test_loader:\n",
    "    K = d_test.shape[-1]\n",
    "    n = len(g.ndata['feat'])\n",
    "    bs = len(g.ndata['feat'])//K\n",
    "    output = model(g).reshape(bs,-1)\n",
    "    gnn_rates = rate_loss(output, d_test, c_test, True).flatten().detach().numpy()\n",
    "    full = torch.ones_like(output)\n",
    "    all_one_rates = rate_loss(full, d_test, c_test, True).flatten().numpy()\n",
    "    \n",
    "## Load optimal resource allocation from .mat file\n",
    "test_data = scipy.io.loadmat('cf_test_6_30.mat')\n",
    "opt_rates = test_data['R_cf_opt_min']"
   ]
  },
  {
   "cell_type": "code",
   "execution_count": 27,
   "id": "500798c3-8f0c-4967-9f24-781829ce7f22",
   "metadata": {},
   "outputs": [],
   "source": [
    "min_rate, max_rate = 0, 2\n",
    "y_axis = np.arange(0, 1.0, 1/202)\n",
    "gnn_rates.sort(); all_one_rates.sort(); opt_rates.sort()\n",
    "gnn_rates = np.insert(gnn_rates, 0, min_rate); gnn_rates = np.insert(gnn_rates,201,max_rate)\n",
    "all_one_rates = np.insert(all_one_rates, 0, min_rate); all_one_rates = np.insert(all_one_rates,201,max_rate)\n",
    "opt_rates = np.insert(opt_rates, 0, min_rate); opt_rates = np.insert(opt_rates,201,max_rate)"
   ]
  },
  {
   "cell_type": "code",
   "execution_count": 28,
   "id": "3c9ae364-e8a0-406a-8229-ababe8a694ec",
   "metadata": {},
   "outputs": [
    {
     "data": {
      "image/png": "[encoded data removed]",
      "text/plain": [
       "<Figure size 432x288 with 1 Axes>"
      ]
     },
     "metadata": {
      "needs_background": "light"
     },
     "output_type": "display_data"
    }
   ],
   "source": [
    "plt.plot(gnn_rates, y_axis, label = 'GNN')\n",
    "plt.plot(opt_rates, y_axis, label = 'Optimal')\n",
    "plt.plot(all_one_rates, y_axis, label = 'Maximum Power')\n",
    "plt.xlabel('Minimum rate [bps/Hz]', {'fontsize':16})\n",
    "plt.ylabel('Empirical CDF', {'fontsize':16})\n",
    "plt.legend(fontsize = 12)\n",
    "plt.grid()"
   ]
  },
  {
   "cell_type": "code",
   "execution_count": null,
   "id": "d344d741-5658-4a62-82cc-417cad3f63dd",
   "metadata": {},
   "outputs": [],
   "source": []
  }
 ],
 "metadata": {
  "environment": {
   "kernel": "python3",
   "name": "pytorch-gpu.1-9.m82",
   "type": "gcloud",
   "uri": "gcr.io/deeplearning-platform-release/pytorch-gpu.1-9:m82"
  },
  "kernelspec": {
   "display_name": "Python 3",
   "language": "python",
   "name": "python3"
  },
  "language_info": {
   "codemirror_mode": {
    "name": "ipython",
    "version": 3
   },
   "file_extension": ".py",
   "mimetype": "text/x-python",
   "name": "python",
   "nbconvert_exporter": "python",
   "pygments_lexer": "ipython3",
   "version": "3.7.10"
  }
 },
 "nbformat": 4,
 "nbformat_minor": 5
}
