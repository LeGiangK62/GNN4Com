{
 "cells": [
  {
   "cell_type": "code",
   "execution_count": 2,
   "id": "fece86df-ec6c-4037-8c59-7dda6e2fa292",
   "metadata": {},
   "outputs": [],
   "source": [
    "import scipy.io\n",
    "import numpy as np\n",
    "import torch\n",
    "from torch.utils.data import Dataset, DataLoader\n",
    "import torch.nn.functional as F"
   ]
  },
  {
   "cell_type": "code",
   "execution_count": 3,
   "id": "e181ee1e-5253-4089-b952-eabe44aa654e",
   "metadata": {},
   "outputs": [],
   "source": [
    "train_layouts = 10000\n",
    "test_layouts = 200"
   ]
  },
  {
   "cell_type": "markdown",
   "id": "4747e4c4-f5f2-46e5-9150-8844c9dfd948",
   "metadata": {},
   "source": [
    "## Load Data"
   ]
  },
  {
   "cell_type": "raw",
   "id": "8d443326-eba0-4cf1-bc18-e75eee951640",
   "metadata": {},
   "source": [
    "The data generation follows [1] https://github.com/hienquocngo/Cell-Free-Massive-MIMO-Versus-Small-Cells/blob/master/UL_PowerAllocation_MaxMin_correlation.m\n",
    "\n",
    "and we define two extra variables \"direct\" and \"cross\" to denote the numerator and denominator of SINR term\n",
    "\n",
    "direct = zeros(K,1);\n",
    "for ii=1:K\n",
    "    direct(ii) = sum(Gammaan(:,ii));\n",
    "    for k=1:K\n",
    "        Te1(ii,k)=sum(BETAAn(:,ii).*Gammaan(:,k));\n",
    "        Te2(ii,k)=(sum((Gammaan(:,k)./BETAA(:,k)).*BETAA(:,ii)) )^2*PhiPhi(k,ii)^2;   \n",
    "        if ii == k\n",
    "            Te2(ii,k) = 0;\n",
    "        end\n",
    "    end\n",
    "end"
   ]
  },
  {
   "cell_type": "code",
   "execution_count": 4,
   "id": "79f1eb37-07c6-4df2-b8b6-85c12a3f7fee",
   "metadata": {},
   "outputs": [],
   "source": [
    "data = scipy.io.loadmat('cf_train_6_30.mat')\n",
    "# beta: large-scale coefficients\n",
    "beta_train = data['betas'][:train_layouts]\n",
    "direct_train = data['directs'][:train_layouts]\n",
    "cross_train = data['corsses'][:train_layouts].transpose(0,2,1)"
   ]
  },
  {
   "cell_type": "code",
   "execution_count": 5,
   "id": "7cd07a32-1c3d-4479-ac1c-f1c655ec5843",
   "metadata": {},
   "outputs": [],
   "source": [
    "test_data = scipy.io.loadmat('cf_test_6_30.mat')\n",
    "beta_test = test_data['betas']\n",
    "direct_test = test_data['directs']\n",
    "cross_test = test_data['corsses'].transpose(0,2,1)"
   ]
  },
  {
   "cell_type": "code",
   "execution_count": 6,
   "id": "c11aee06-3ef4-4968-96ce-0f005eb47722",
   "metadata": {},
   "outputs": [
    {
     "name": "stdout",
     "output_type": "stream",
     "text": [
      "Optimal minimum user rate: 1.1406364073519204\n"
     ]
    }
   ],
   "source": [
    "r_test = test_data['R_cf_opt_min']\n",
    "print('Optimal minimum user rate:', np.mean(r_test))"
   ]
  },
  {
   "cell_type": "code",
   "execution_count": 7,
   "id": "be43f324-0b9d-4004-8e64-0e6b96cd4dab",
   "metadata": {},
   "outputs": [
    {
     "name": "stdout",
     "output_type": "stream",
     "text": [
      "86131.93621968619 16.301596682086984 1.2203819450871167e-05 169.50661576433026\n"
     ]
    }
   ],
   "source": [
    "## The data range varies greatly, which means normalization is necessary\n",
    "print(np.max(beta_train), np.mean(beta_train), np.min(beta_train), np.std(beta_train) )"
   ]
  },
  {
   "cell_type": "code",
   "execution_count": 8,
   "id": "7294be18-e5ea-4d27-8abd-a70ebbc3c4ec",
   "metadata": {},
   "outputs": [],
   "source": [
    "def normalize_data(train_data,test_data):\n",
    "    train_mean = np.mean(train_data)\n",
    "    train_std = np.std(train_data)\n",
    "    norm_train = (train_data)/train_std\n",
    "    norm_test = (test_data)/train_std\n",
    "    n1, n2 = norm_train.shape[0], norm_test.shape[0]\n",
    "    return norm_train.reshape(n1,-1), norm_test.reshape(n2,-1)\n",
    "norm_train_losses, norm_test_losses = normalize_data(np.sqrt(beta_train), np.sqrt(beta_test))"
   ]
  },
  {
   "cell_type": "markdown",
   "id": "e44a2fce-4ed9-42b3-9c54-c2c5e4f0c1ab",
   "metadata": {},
   "source": [
    "## Create Dataset"
   ]
  },
  {
   "cell_type": "code",
   "execution_count": 9,
   "id": "444543ff-6719-4d5c-94d9-3d953f08bb46",
   "metadata": {},
   "outputs": [],
   "source": [
    "train_K, train_M = beta_train.shape[2], beta_train.shape[1]\n",
    "test_K, test_M = beta_test.shape[2], beta_test.shape[1]"
   ]
  },
  {
   "cell_type": "code",
   "execution_count": 10,
   "id": "2c511885-a97c-401f-8de2-ab259ebb46f2",
   "metadata": {},
   "outputs": [],
   "source": [
    "class PCDataset(torch.utils.data.Dataset):\n",
    "    def __init__(self, data, direct, cross):\n",
    "        'Initialization'\n",
    "        self.data = torch.tensor(data, dtype = torch.float)\n",
    "        self.direct = torch.tensor(direct, dtype = torch.float)\n",
    "        self.cross = torch.tensor(cross, dtype = torch.float)\n",
    "\n",
    "    def __len__(self):\n",
    "        'Denotes the total number of samples'\n",
    "        return len(self.data)\n",
    "\n",
    "    def __getitem__(self, index):\n",
    "        'Generates one sample of data'\n",
    "        # Select sample\n",
    "        X = self.data[index]\n",
    "        d = self.direct[index]\n",
    "        c = self.cross[index]\n",
    "        return X, d, c"
   ]
  },
  {
   "cell_type": "code",
   "execution_count": 11,
   "id": "2105b470-2454-4f08-a260-674febd1f336",
   "metadata": {},
   "outputs": [],
   "source": [
    "train_data = PCDataset(norm_train_losses, direct_train, cross_train)\n",
    "test_data = PCDataset(norm_test_losses, direct_test, cross_test)"
   ]
  },
  {
   "cell_type": "code",
   "execution_count": 12,
   "id": "21cf87dc-93e9-4dff-ad08-25c0462f9c7c",
   "metadata": {},
   "outputs": [],
   "source": [
    "batch_size = 64\n",
    "train_loader = DataLoader(train_data, batch_size, shuffle=True)\n",
    "test_loader = DataLoader(test_data, test_layouts, shuffle=False)"
   ]
  },
  {
   "cell_type": "markdown",
   "id": "78d4ee73-6cf3-486b-a0d7-663a151591bd",
   "metadata": {},
   "source": [
    "## Build Model"
   ]
  },
  {
   "cell_type": "markdown",
   "id": "8b1bbfde-e677-44f6-bc35-0de2140208da",
   "metadata": {},
   "source": [
    "#### Define loss function\n",
    "The loss function is similar to D2D case, differs in two aspects:\n",
    "1. crosslink_channel_losses have diagonal part\n",
    "2. Take minimum instead of sum"
   ]
  },
  {
   "cell_type": "code",
   "execution_count": 14,
   "id": "caec3432-3adf-47ba-8d07-9c028eb188d9",
   "metadata": {},
   "outputs": [],
   "source": [
    "def rate_loss(allocs, directlink_channel_losses, crosslink_channel_losses, test_mode = False):\n",
    "    SINRs_numerators = allocs * directlink_channel_losses**2\n",
    "    SINRs_denominators = torch.squeeze(torch.matmul(crosslink_channel_losses, torch.unsqueeze(allocs, axis=-1))) + directlink_channel_losses\n",
    "    SINRs = SINRs_numerators / SINRs_denominators\n",
    "    rates = torch.log2(1 + SINRs)\n",
    "    min_rate = torch.min(rates, dim = 1)[0]\n",
    "    if test_mode:\n",
    "        #For test, we may need to plot the CDF of achievable rate, so returning an array\n",
    "        return min_rate\n",
    "    else:\n",
    "        return -torch.mean(min_rate)"
   ]
  },
  {
   "cell_type": "markdown",
   "id": "255dd6ab-c441-42a6-b78b-15ee9b24a97f",
   "metadata": {},
   "source": [
    "#### Standard MLP modules"
   ]
  },
  {
   "cell_type": "code",
   "execution_count": 13,
   "id": "463eeee5-0a01-45a0-84bb-82f8b8c335e7",
   "metadata": {},
   "outputs": [],
   "source": [
    "from torch.nn import Sequential as Seq, Linear as Lin, ReLU, Sigmoid, BatchNorm1d as BN, ReLU6 as ReLU6\n",
    "def MLP(channels, batch_norm=True):\n",
    "    return Seq(*[\n",
    "        Seq(Lin(channels[i - 1], channels[i]), ReLU(), BN(channels[i]))\n",
    "        for i in range(1, len(channels))\n",
    "    ])"
   ]
  },
  {
   "cell_type": "code",
   "execution_count": 15,
   "id": "ba4fa89d-d4c3-4189-95dd-d5903fa35ea2",
   "metadata": {},
   "outputs": [],
   "source": [
    "class PCNet(torch.nn.Module):\n",
    "    def __init__(self):\n",
    "        super(PCNet, self).__init__()\n",
    "        self.mlp = MLP([train_K * train_M, 100, 100])\n",
    "        self.mlp = Seq(*[self.mlp,Seq(Lin(100, train_K), Sigmoid())])\n",
    "\n",
    "    def forward(self, data):\n",
    "        return self.mlp(data)"
   ]
  },
  {
   "cell_type": "code",
   "execution_count": 16,
   "id": "41d3f224-cef4-45fe-9f4e-c3944ec56f92",
   "metadata": {},
   "outputs": [],
   "source": [
    "model = PCNet()\n",
    "optimizer = torch.optim.Adam(model.parameters(), lr=5e-4)"
   ]
  },
  {
   "cell_type": "markdown",
   "id": "2f171020-2d88-4647-a0dd-efe0db232db8",
   "metadata": {},
   "source": [
    "## Train and Test"
   ]
  },
  {
   "cell_type": "code",
   "execution_count": 17,
   "id": "90af8412-0c2e-4be7-b413-deb02d6433cc",
   "metadata": {},
   "outputs": [],
   "source": [
    "def train(epoch):\n",
    "    \"\"\" Train for one epoch. \"\"\"\n",
    "    model.train()\n",
    "    loss_all = 0\n",
    "    for batch_idx, (x_train, d_train, c_train) in enumerate(train_loader):\n",
    "        #data = data.to(device)\n",
    "        optimizer.zero_grad()\n",
    "        output = model(x_train)\n",
    "        loss = rate_loss(output, d_train, c_train)\n",
    "        loss.backward()\n",
    "        loss_all += loss.item() * len(x_train)\n",
    "        optimizer.step()\n",
    "    return loss_all / len(train_loader.dataset)"
   ]
  },
  {
   "cell_type": "code",
   "execution_count": 18,
   "id": "be22276e-7aca-4c96-b68f-80d5fda6e7bf",
   "metadata": {},
   "outputs": [],
   "source": [
    "def test(loader):\n",
    "    model.eval()\n",
    "    correct = 0\n",
    "    for (x_test, d_test, c_test) in loader:\n",
    "        #data = data.to(device)\n",
    "        output = model(x_test)\n",
    "        loss = rate_loss(output, d_test, c_test)\n",
    "        correct += loss.item() * len(x_test)\n",
    "    return correct / len(loader.dataset)"
   ]
  },
  {
   "cell_type": "code",
   "execution_count": 19,
   "id": "17c0c359-7436-428d-abd1-9c9fb74e02fb",
   "metadata": {},
   "outputs": [
    {
     "name": "stdout",
     "output_type": "stream",
     "text": [
      "Epoch 000, Train Rate: -0.5365, Test Rate: -0.5171\n",
      "Epoch 010, Train Rate: -0.9925, Test Rate: -0.9390\n",
      "Epoch 020, Train Rate: -1.0181, Test Rate: -0.9581\n",
      "Epoch 030, Train Rate: -1.0374, Test Rate: -0.9706\n",
      "Epoch 040, Train Rate: -1.0467, Test Rate: -0.9719\n",
      "Epoch 050, Train Rate: -1.0476, Test Rate: -0.9783\n",
      "Epoch 060, Train Rate: -1.0462, Test Rate: -0.9803\n",
      "Epoch 070, Train Rate: -1.0502, Test Rate: -0.9703\n",
      "Epoch 080, Train Rate: -1.0552, Test Rate: -0.9773\n",
      "Epoch 090, Train Rate: -1.0559, Test Rate: -0.9769\n",
      "Epoch 100, Train Rate: -1.0631, Test Rate: -0.9749\n",
      "Epoch 110, Train Rate: -1.0666, Test Rate: -0.9729\n",
      "Epoch 120, Train Rate: -1.0693, Test Rate: -0.9760\n",
      "Epoch 130, Train Rate: -1.0674, Test Rate: -0.9716\n",
      "Epoch 140, Train Rate: -1.0700, Test Rate: -0.9808\n",
      "Epoch 150, Train Rate: -1.0691, Test Rate: -0.9752\n",
      "Epoch 160, Train Rate: -1.0721, Test Rate: -0.9824\n",
      "Epoch 170, Train Rate: -1.0717, Test Rate: -0.9738\n",
      "Epoch 180, Train Rate: -1.0728, Test Rate: -0.9729\n",
      "Epoch 190, Train Rate: -1.0722, Test Rate: -0.9743\n"
     ]
    }
   ],
   "source": [
    "record = []\n",
    "for epoch in range(0, 200):\n",
    "    if(epoch % 10 == 0):\n",
    "        train_rate = test(train_loader)\n",
    "        test_rate = test(test_loader)\n",
    "        print('Epoch {:03d}, Train Rate: {:.4f}, Test Rate: {:.4f}'.format(\n",
    "            epoch, train_rate, test_rate))\n",
    "        record.append([train_rate, test_rate])\n",
    "    train(epoch)\n",
    "    #scheduler.step()"
   ]
  },
  {
   "cell_type": "markdown",
   "id": "d7c7fc41-2b92-4147-a7fe-f88f805e683f",
   "metadata": {},
   "source": [
    "## Plot CDF"
   ]
  },
  {
   "cell_type": "code",
   "execution_count": 26,
   "id": "9734d911-bd9e-450a-a53b-59f8d8afc30c",
   "metadata": {},
   "outputs": [],
   "source": [
    "## For CDF Plot\n",
    "import matplotlib.pyplot as plt\n",
    "for (x_test, d_test, c_test) in test_loader:\n",
    "    output = model(x_test)\n",
    "    full = torch.ones_like(output)\n",
    "    mlp_rates = rate_loss(output, d_test, c_test, True).flatten().detach().numpy()\n",
    "    all_one_rates = rate_loss(full, d_test, c_test, True).flatten().numpy()\n",
    "\n",
    "## Load optimal resource allocation from .mat file\n",
    "test_data = scipy.io.loadmat('cf_test_6_30.mat')\n",
    "opt_rates = test_data['R_cf_opt_min']"
   ]
  },
  {
   "cell_type": "code",
   "execution_count": 27,
   "id": "47653169-40f0-46dc-a6a0-60960a31ef7f",
   "metadata": {},
   "outputs": [],
   "source": [
    "min_rate, max_rate = 0, 2\n",
    "y_axis = np.arange(0, 1.0, 1/202)\n",
    "mlp_rates.sort(); all_one_rates.sort(); opt_rates.sort()\n",
    "mlp_rates = np.insert(mlp_rates, 0, min_rate); mlp_rates = np.insert(mlp_rates,201,max_rate)\n",
    "all_one_rates = np.insert(all_one_rates, 0, min_rate); all_one_rates = np.insert(all_one_rates,201,max_rate)\n",
    "opt_rates = np.insert(opt_rates, 0, min_rate); opt_rates = np.insert(opt_rates,201,max_rate)"
   ]
  },
  {
   "cell_type": "code",
   "execution_count": 31,
   "id": "1d6f016e-3d87-442b-9620-46aac19310aa",
   "metadata": {},
   "outputs": [
    {
     "name": "stderr",
     "output_type": "stream",
     "text": [
      "The PostScript backend does not support transparency; partially transparent artists will be rendered opaque.\n",
      "The PostScript backend does not support transparency; partially transparent artists will be rendered opaque.\n"
     ]
    },
    {
     "data": {
      "image/png": "[encoded data removed]",
      "text/plain": [
       "<Figure size 432x288 with 1 Axes>"
      ]
     },
     "metadata": {
      "needs_background": "light"
     },
     "output_type": "display_data"
    }
   ],
   "source": [
    "plt.plot(mlp_rates, y_axis, label = 'MLP')\n",
    "plt.plot(opt_rates, y_axis, label = 'Optimal')\n",
    "plt.plot(all_one_rates, y_axis, label = 'Maximum Power')\n",
    "plt.xlabel('Minimum rate [bps/Hz]', {'fontsize':16})\n",
    "plt.ylabel('Empirical CDF', {'fontsize':16})\n",
    "plt.legend(fontsize = 12)\n",
    "plt.grid()"
   ]
  },
  {
   "cell_type": "markdown",
   "id": "394ff370-045b-46c5-a37d-ca2270b02e9e",
   "metadata": {},
   "source": [
    "## Reference\n",
    "[1]  H. Q. Ngo, A. Ashikhmin, H. Yang, E. G. Larsson, and T. L. Marzetta, “Cell-free massive MIMO versus small cells,” IEEE Trans. Wireless Commun., vol. 16, no. 3, pp. 1834–1850, 2017."
   ]
  }
 ],
 "metadata": {
  "environment": {
   "kernel": "python3",
   "name": "pytorch-gpu.1-9.m82",
   "type": "gcloud",
   "uri": "gcr.io/deeplearning-platform-release/pytorch-gpu.1-9:m82"
  },
  "kernelspec": {
   "display_name": "Python 3",
   "language": "python",
   "name": "python3"
  },
  "language_info": {
   "codemirror_mode": {
    "name": "ipython",
    "version": 3
   },
   "file_extension": ".py",
   "mimetype": "text/x-python",
   "name": "python",
   "nbconvert_exporter": "python",
   "pygments_lexer": "ipython3",
   "version": "3.7.10"
  }
 },
 "nbformat": 4,
 "nbformat_minor": 5
}
