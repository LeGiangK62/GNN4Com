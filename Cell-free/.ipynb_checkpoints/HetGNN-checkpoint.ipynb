{
 "cells": [
  {
   "cell_type": "code",
   "execution_count": 1,
   "id": "d6bd1331-2391-4a69-b671-97ddba099d68",
   "metadata": {},
   "outputs": [
    {
     "name": "stderr",
     "output_type": "stream",
     "text": [
      "Using backend: pytorch\n"
     ]
    }
   ],
   "source": [
    "import numpy as np\n",
    "import torch\n",
    "from torch.utils.data import Dataset, DataLoader\n",
    "import torch.nn.functional as F\n",
    "from dgl.data import DGLDataset\n",
    "import dgl\n",
    "import dgl.function as fn\n",
    "import torch.nn as nn\n",
    "from torch.nn import Sequential as Seq, Linear as Lin, ReLU, ELU, Sigmoid, BatchNorm1d as BN, ReLU6 as ReLU6\n",
    "import scipy.io\n",
    "from dgl.nn import HeteroGraphConv\n",
    "from dgl.utils import expand_as_pair"
   ]
  },
  {
   "cell_type": "markdown",
   "id": "955181fd-3f5e-4856-a2ca-76cd3fc0f1ca",
   "metadata": {},
   "source": [
    "## Load and Normalize Data"
   ]
  },
  {
   "cell_type": "raw",
   "id": "0825bee5-f13d-4e11-88a9-fe81f52970ad",
   "metadata": {},
   "source": [
    "The data generation follows [1] https://github.com/hienquocngo/Cell-Free-Massive-MIMO-Versus-Small-Cells/blob/master/UL_PowerAllocation_MaxMin_correlation.m\n",
    "\n",
    "and we define two extra variables \"direct\" and \"cross\" to denote the numerator and denominator of SINR term\n",
    "\n",
    "direct = zeros(K,1);\n",
    "for ii=1:K\n",
    "    direct(ii) = sum(Gammaan(:,ii));\n",
    "    for k=1:K\n",
    "        Te1(ii,k)=sum(BETAAn(:,ii).*Gammaan(:,k));\n",
    "        Te2(ii,k)=(sum((Gammaan(:,k)./BETAA(:,k)).*BETAA(:,ii)) )^2*PhiPhi(k,ii)^2;   \n",
    "        if ii == k\n",
    "            Te2(ii,k) = 0;\n",
    "        end\n",
    "    end\n",
    "end"
   ]
  },
  {
   "cell_type": "code",
   "execution_count": 2,
   "id": "27616693-bb64-4541-b4b7-20ec4a1dd4d8",
   "metadata": {},
   "outputs": [],
   "source": [
    "train_layouts = 10000\n",
    "test_layouts = 200"
   ]
  },
  {
   "cell_type": "code",
   "execution_count": 3,
   "id": "fef5f5e7-b31f-40b0-83cc-fc71a8ed7eb1",
   "metadata": {},
   "outputs": [],
   "source": [
    "data = scipy.io.loadmat('cf_train_6_30.mat')\n",
    "beta_train = data['betas'][:train_layouts]\n",
    "direct_train = data['directs'][:train_layouts]\n",
    "cross_train = data['corsses'][:train_layouts].transpose(0,2,1)"
   ]
  },
  {
   "cell_type": "code",
   "execution_count": 4,
   "id": "b9be47c6-6986-41f0-a521-276c94c64a09",
   "metadata": {},
   "outputs": [],
   "source": [
    "test_data = scipy.io.loadmat('cf_test_6_30.mat')\n",
    "beta_test = test_data['betas']\n",
    "direct_test = test_data['directs']\n",
    "cross_test = test_data['corsses'].transpose(0,2,1)"
   ]
  },
  {
   "cell_type": "code",
   "execution_count": 5,
   "id": "5784364c-141e-401d-a538-21a4854e169c",
   "metadata": {},
   "outputs": [],
   "source": [
    "def normalize_data(train_data,test_data):\n",
    "    train_mean = np.mean(train_data)\n",
    "    train_std = np.std(train_data)\n",
    "    norm_train = (train_data)/train_std\n",
    "    norm_test = (test_data)/train_std\n",
    "    n1, n2 = norm_train.shape[0], norm_test.shape[0]\n",
    "    return norm_train, norm_test\n",
    "norm_train_losses, norm_test_losses = normalize_data(beta_train**(1/2), beta_test**(1/2) )"
   ]
  },
  {
   "cell_type": "code",
   "execution_count": 6,
   "id": "13391c00-16d9-4f62-a7ac-839f4d57d0be",
   "metadata": {},
   "outputs": [],
   "source": [
    "## For GNNs, we allow train_K \\neq test_K\n",
    "train_K, train_M = beta_train.shape[2], beta_train.shape[1]\n",
    "test_K, test_M = beta_test.shape[2], beta_test.shape[1]"
   ]
  },
  {
   "cell_type": "markdown",
   "id": "da9f9504-1e9e-41e3-a1e0-2d3909a8c027",
   "metadata": {},
   "source": [
    "## Create Dataset\n",
    "Please refer to https://docs.dgl.ai/en/0.6.x/guide/graph-heterogeneous.html#guide-graph-heterogeneous for a tutorial for the usage of DGL hetergenous graph dataset"
   ]
  },
  {
   "cell_type": "code",
   "execution_count": 7,
   "id": "6b8c16e8-6acb-4280-bf32-003b3fe87cc0",
   "metadata": {},
   "outputs": [],
   "source": [
    "class PCDataset(DGLDataset):\n",
    "    def __init__(self, norm_losses, direct, cross, KM):\n",
    "        self.norm_losses = norm_losses\n",
    "        self.direct = torch.tensor(direct, dtype = torch.float)\n",
    "        self.cross = torch.tensor(cross, dtype = torch.float)\n",
    "        self.KM = KM\n",
    "        self.get_cg()\n",
    "        super().__init__(name='power_control')\n",
    "        \n",
    "        \n",
    "    def build_graph(self, idx):\n",
    "        edge_feature = self.norm_losses[idx,:,:].reshape((self.KM[0]*self.KM[1],1), order = 'F')\n",
    "        edge_feature = np.concatenate((edge_feature, np.ones_like(edge_feature)), axis = -1)\n",
    "        graph = dgl.heterograph({('UE', 'com-by', 'AP'): self.adj, ('AP', 'com', 'UE') : self.adj_t})\n",
    "        graph.nodes['UE'].data['feat'] = torch.ones((self.KM[0],1))\n",
    "        graph.nodes['AP'].data['feat'] = torch.ones((self.KM[1],1))\n",
    "        ## Initialize node feature as all one vector\n",
    "        graph.edges['com-by'].data['feat'] = torch.tensor(edge_feature, dtype = torch.float)\n",
    "        graph.edges['com'].data['feat'] = torch.tensor(edge_feature, dtype = torch.float)\n",
    "        ## Edge feature: large-scale coefficients\n",
    "        return graph\n",
    "    \n",
    "    def get_cg(self):\n",
    "        ## The graph is a fully connected bipartite graph\n",
    "        self.adj = []; self.adj_t = []\n",
    "        for i in range(0,self.KM[0]):\n",
    "            for j in range(0,self.KM[1]):\n",
    "                self.adj.append([i,j])\n",
    "                self.adj_t.append([j,i])\n",
    "            \n",
    "                    \n",
    "    def __len__(self):\n",
    "        'Denotes the total number of samples'\n",
    "        return len(self.direct)\n",
    "\n",
    "    def __getitem__(self, index):\n",
    "        'Generates one sample of data'\n",
    "        # Select sample\n",
    "        return self.graph_list[index], self.direct[index], self.cross[index]\n",
    "\n",
    "    def process(self):\n",
    "        n = len(self.direct)\n",
    "        self.graph_list = []\n",
    "        for i in range(n):\n",
    "            graph = self.build_graph(i)\n",
    "            self.graph_list.append(graph)"
   ]
  },
  {
   "cell_type": "code",
   "execution_count": 8,
   "id": "c2afeca5-f804-49e7-b89c-42c99bf9aeac",
   "metadata": {},
   "outputs": [],
   "source": [
    "# Please refer to https://docs.dgl.ai/en/0.2.x/tutorials/basics/4_batch.html for details of collate\n",
    "def collate(samples):\n",
    "    '''DGL collate function'''\n",
    "    graphs, direct, cross = map(list, zip(*samples))\n",
    "    batched_graph = dgl.batch(graphs)\n",
    "    return batched_graph, torch.stack(direct), torch.stack(cross)"
   ]
  },
  {
   "cell_type": "code",
   "execution_count": 9,
   "id": "b12f3975-990b-40c5-8def-1317b943b47a",
   "metadata": {},
   "outputs": [],
   "source": [
    "train_data = PCDataset(norm_train_losses, direct_train, cross_train, (train_K, train_M))\n",
    "test_data = PCDataset(norm_test_losses, direct_test, cross_test, (test_K, test_M))"
   ]
  },
  {
   "cell_type": "code",
   "execution_count": 10,
   "id": "c3ae0b2b-e0e0-465e-ab99-77c2212826dd",
   "metadata": {},
   "outputs": [
    {
     "name": "stdout",
     "output_type": "stream",
     "text": [
      "['AP', 'UE']\n"
     ]
    }
   ],
   "source": [
    "## For heterogenous graph, nodes and edges have names\n",
    "print(train_data[0][0].ntypes)"
   ]
  },
  {
   "cell_type": "code",
   "execution_count": 11,
   "id": "37ec3c11-b549-474d-8e64-031a277e3c3d",
   "metadata": {},
   "outputs": [],
   "source": [
    "batch_size = 64\n",
    "train_loader = DataLoader(train_data, batch_size, shuffle=True, collate_fn=collate)\n",
    "test_loader = DataLoader(test_data, test_layouts, shuffle=False, collate_fn=collate)"
   ]
  },
  {
   "cell_type": "markdown",
   "id": "f51f02da-4c7d-40f7-9317-c6030074f439",
   "metadata": {},
   "source": [
    "## Build Graph Neural Networks"
   ]
  },
  {
   "cell_type": "markdown",
   "id": "ced621cc-cb60-4827-b847-0ddd45a896c2",
   "metadata": {},
   "source": [
    "#### Define loss function\n",
    "The loss function is similar to D2D case, differs in two aspects:\n",
    "1. crosslink_channel_losses have diagonal part\n",
    "2. Take minimum instead of sum"
   ]
  },
  {
   "cell_type": "code",
   "execution_count": 12,
   "id": "e71824ff-7e57-4548-8625-7f12767a6f08",
   "metadata": {},
   "outputs": [],
   "source": [
    "def rate_loss(allocs, directlink_channel_losses, crosslink_channel_losses, test_mode = False):\n",
    "    SINRs_numerators = allocs * directlink_channel_losses**2\n",
    "    SINRs_denominators = torch.squeeze(torch.matmul(crosslink_channel_losses, torch.unsqueeze(allocs, axis=-1))) + directlink_channel_losses\n",
    "    SINRs = SINRs_numerators / SINRs_denominators\n",
    "    rates = torch.log2(1 + SINRs)\n",
    "    min_rate = torch.min(rates, dim = 1)[0] # take min\n",
    "    if test_mode:\n",
    "        return min_rate\n",
    "    else:\n",
    "        return -torch.mean(min_rate)"
   ]
  },
  {
   "cell_type": "markdown",
   "id": "56ce36d7-a03d-4c9c-9366-ff17af576659",
   "metadata": {},
   "source": [
    "#### Message Passing Modules \n",
    "Please refer to https://docs.dgl.ai/en/0.6.x/guide/message-heterograph.html for the usage of DGL heterogenous message-passing\n",
    "\n",
    "Chinese version: https://zhuanlan.zhihu.com/p/354258797"
   ]
  },
  {
   "cell_type": "code",
   "execution_count": 14,
   "id": "0e931344-d579-4a69-b1a2-a05661d43610",
   "metadata": {},
   "outputs": [],
   "source": [
    "def MLP(channels, batch_norm=True):\n",
    "    return Seq(*[\n",
    "        Seq(Lin(channels[i - 1], channels[i]), ReLU(), BN(channels[i]))\n",
    "        for i in range(1, len(channels))\n",
    "    ])\n",
    "class EdgeConv(nn.Module):\n",
    "    def __init__(self, input_dim, node_dim, **kwargs):\n",
    "        super(EdgeConv, self).__init__()\n",
    "        self.lin = MLP([input_dim, 32])\n",
    "        self.res_lin = Lin(node_dim, 32)\n",
    "        self.bn = BN(32)\n",
    "        #self.reset_parameters()\n",
    "\n",
    "    def concat_message_function(self, edges):\n",
    "        return {'out': torch.cat([edges.src['hid'], edges.dst['hid'], edges.data['feat']], axis=1)}\n",
    "    \n",
    "    def forward(self, g, inputs):\n",
    "        with g.local_scope():\n",
    "            feat_src, feat_dst = expand_as_pair(inputs, g)\n",
    "            g.srcdata['hid'] = feat_src\n",
    "            g.dstdata['hid'] = feat_dst\n",
    "            \n",
    "            g.apply_edges(self.concat_message_function)\n",
    "            g.edata['out'] = self.lin(g.edata['out'])\n",
    "            g.update_all(fn.copy_edge('out', 'm'),\n",
    "                         fn.mean('m', 'hid'))\n",
    "            return g.dstdata['hid'] + self.res_lin(feat_dst)"
   ]
  },
  {
   "cell_type": "markdown",
   "id": "27f1717d-1661-4851-8010-296451950a9d",
   "metadata": {},
   "source": [
    "#### GNN Modules \n",
    "Please refer to https://docs.dgl.ai/en/0.6.x/guide/nn-heterograph.html and for usage of DGL Heterogenous GNN\n",
    "\n",
    "Chinese version: https://zhuanlan.zhihu.com/p/354258797"
   ]
  },
  {
   "cell_type": "code",
   "execution_count": 15,
   "id": "9206a34f-2e80-40c7-a8fb-822f462589c5",
   "metadata": {},
   "outputs": [],
   "source": [
    "class RGCN(nn.Module):\n",
    "    def __init__(self):\n",
    "        super().__init__()\n",
    "        self.conv1 = HeteroGraphConv({rel:EdgeConv(4,1)\n",
    "                                            for rel in ['com', 'com-by']}, aggregate='mean')\n",
    "        self.conv2= HeteroGraphConv({rel:EdgeConv(66,32)\n",
    "                                            for rel in ['com', 'com-by']}, aggregate='mean')\n",
    "        self.conv3 = HeteroGraphConv({rel:EdgeConv(66,32)\n",
    "                                            for rel in ['com', 'com-by']}, aggregate='mean')\n",
    "        self.mlp = MLP([32, 16])\n",
    "        self.mlp = Seq(*[self.mlp, Seq(Lin(16, 1), Sigmoid())])\n",
    "    def forward(self, g, inputs):\n",
    "        out = self.conv1(g, inputs)\n",
    "        out = self.conv2(g, out)\n",
    "        out = self.conv3(g, out)\n",
    "        out = self.mlp(out['UE'])\n",
    "        return out"
   ]
  },
  {
   "cell_type": "code",
   "execution_count": 16,
   "id": "26c5c83d-9619-4615-ac4a-dd987a8aff2e",
   "metadata": {},
   "outputs": [],
   "source": [
    "model = RGCN()\n",
    "optimizer = torch.optim.Adam(model.parameters(), lr=5e-5)\n",
    "scheduler = torch.optim.lr_scheduler.StepLR(optimizer, step_size=20, gamma=0.9)"
   ]
  },
  {
   "cell_type": "markdown",
   "id": "24e6cd24-ea70-41ff-b3af-4f7c50871232",
   "metadata": {},
   "source": [
    "## Training and Test\n",
    "The training is similar to the node regression on homogenous graph, please refer to https://docs.dgl.ai/en/0.6.x/guide/training-node.html for DGL node regression training"
   ]
  },
  {
   "cell_type": "code",
   "execution_count": 17,
   "id": "2b60cad5-7481-49c4-9778-db0cc32f8a5e",
   "metadata": {},
   "outputs": [],
   "source": [
    "def train(epoch):\n",
    "    \"\"\" Train for one epoch. \"\"\"\n",
    "    model.train()\n",
    "    loss_all = 0\n",
    "    for batch_idx, (g, d_train, c_train) in enumerate(train_loader):\n",
    "        #data = data.to(device)\n",
    "        K = d_train.shape[-1]\n",
    "        n = len(g.nodes['UE'].data['feat'])\n",
    "        bs = len(g.nodes['UE'].data['feat'])//K\n",
    "        \n",
    "        optimizer.zero_grad()\n",
    "        \n",
    "        user_feats = g.nodes['AP'].data['feat']\n",
    "        item_feats = g.nodes['UE'].data['feat']\n",
    "        node_features = {'AP': user_feats, 'UE': item_feats}\n",
    "        output = model(g, node_features).reshape(bs,-1)\n",
    "        \n",
    "        loss = rate_loss(output, d_train, c_train)\n",
    "        loss.backward()\n",
    "        \n",
    "        loss_all += loss.item() * bs\n",
    "        optimizer.step()\n",
    "    return loss_all / len(train_loader.dataset)"
   ]
  },
  {
   "cell_type": "code",
   "execution_count": 18,
   "id": "9ee3b756-4f77-44d5-8df5-18defa562aa0",
   "metadata": {},
   "outputs": [],
   "source": [
    "def test(loader):\n",
    "    model.eval()\n",
    "    correct = 0\n",
    "    for (g, d_test, c_test) in loader:\n",
    "        K = d_test.shape[-1]\n",
    "        n = len(g.nodes['UE'].data['feat'])\n",
    "        bs = len(g.nodes['UE'].data['feat'])//K\n",
    "        \n",
    "        user_feats = g.nodes['AP'].data['feat']\n",
    "        item_feats = g.nodes['UE'].data['feat']\n",
    "        node_features = {'AP': user_feats, 'UE': item_feats}\n",
    "        output = model(g, node_features).reshape(bs,-1)\n",
    "        \n",
    "        loss = rate_loss(output, d_test, c_test)\n",
    "        correct += loss.item() * bs\n",
    "    return correct / len(loader.dataset)"
   ]
  },
  {
   "cell_type": "code",
   "execution_count": 19,
   "id": "af4995bb-a1c3-4d04-aaa6-e4081a9fbcc5",
   "metadata": {},
   "outputs": [
    {
     "name": "stdout",
     "output_type": "stream",
     "text": [
      "Epoch 000, Train Rate: -0.5359, Test Rate: -0.5163\n",
      "Epoch 001, Train Rate: -0.8138, Test Rate: -0.7918\n",
      "Epoch 002, Train Rate: -0.8822, Test Rate: -0.8598\n",
      "Epoch 003, Train Rate: -0.9169, Test Rate: -0.8946\n",
      "Epoch 004, Train Rate: -0.9300, Test Rate: -0.9073\n",
      "Epoch 005, Train Rate: -0.9500, Test Rate: -0.9274\n",
      "Epoch 006, Train Rate: -0.9689, Test Rate: -0.9470\n",
      "Epoch 007, Train Rate: -0.9737, Test Rate: -0.9511\n",
      "Epoch 008, Train Rate: -0.9890, Test Rate: -0.9670\n",
      "Epoch 009, Train Rate: -1.0002, Test Rate: -0.9829\n",
      "Epoch 010, Train Rate: -1.0105, Test Rate: -1.0011\n",
      "Epoch 011, Train Rate: -1.0266, Test Rate: -1.0180\n",
      "Epoch 012, Train Rate: -1.0254, Test Rate: -1.0199\n",
      "Epoch 013, Train Rate: -1.0404, Test Rate: -1.0366\n",
      "Epoch 014, Train Rate: -1.0423, Test Rate: -1.0372\n",
      "Epoch 015, Train Rate: -1.0465, Test Rate: -1.0457\n",
      "Epoch 016, Train Rate: -1.0465, Test Rate: -1.0470\n",
      "Epoch 017, Train Rate: -1.0532, Test Rate: -1.0559\n",
      "Epoch 018, Train Rate: -1.0515, Test Rate: -1.0540\n",
      "Epoch 019, Train Rate: -1.0488, Test Rate: -1.0449\n",
      "Epoch 020, Train Rate: -1.0503, Test Rate: -1.0531\n",
      "Epoch 021, Train Rate: -1.0525, Test Rate: -1.0567\n",
      "Epoch 022, Train Rate: -1.0614, Test Rate: -1.0677\n",
      "Epoch 023, Train Rate: -1.0507, Test Rate: -1.0583\n",
      "Epoch 024, Train Rate: -1.0558, Test Rate: -1.0600\n",
      "Epoch 025, Train Rate: -1.0579, Test Rate: -1.0610\n",
      "Epoch 026, Train Rate: -1.0600, Test Rate: -1.0679\n",
      "Epoch 027, Train Rate: -1.0625, Test Rate: -1.0667\n",
      "Epoch 028, Train Rate: -1.0611, Test Rate: -1.0658\n",
      "Epoch 029, Train Rate: -1.0628, Test Rate: -1.0672\n"
     ]
    }
   ],
   "source": [
    "record = []\n",
    "for epoch in range(0, 30):\n",
    "    if(epoch % 1 == 0):\n",
    "        with torch.no_grad():\n",
    "            train_rate = test(train_loader)\n",
    "            test_rate = test(test_loader)\n",
    "        print('Epoch {:03d}, Train Rate: {:.4f}, Test Rate: {:.4f}'.format(\n",
    "            epoch, train_rate, test_rate))\n",
    "        record.append([train_rate, test_rate])\n",
    "    train(epoch)\n",
    "    scheduler.step()"
   ]
  },
  {
   "cell_type": "markdown",
   "id": "0675224f-7bea-4eb5-ad32-9f20df27b064",
   "metadata": {},
   "source": [
    "## Plot CDF"
   ]
  },
  {
   "cell_type": "code",
   "execution_count": 24,
   "id": "d1df50a6-446a-413d-b946-41e26ff70bc9",
   "metadata": {},
   "outputs": [],
   "source": [
    "## For CDF Plot\n",
    "import matplotlib.pyplot as plt\n",
    "for (g, d_test, c_test) in test_loader:\n",
    "    K = d_test.shape[-1]\n",
    "    n = len(g.nodes['UE'].data['feat'])\n",
    "    bs = len(g.nodes['UE'].data['feat'])//K\n",
    "    #data = data.to(device)\n",
    "    user_feats = g.nodes['AP'].data['feat']\n",
    "    item_feats = g.nodes['UE'].data['feat']\n",
    "    node_features = {'AP': user_feats, 'UE': item_feats}\n",
    "    output = model(g, node_features).reshape(bs,-1)\n",
    "    gnn_rates = rate_loss(output, d_test, c_test, True).flatten().detach().numpy()\n",
    "    \n",
    "    full = torch.ones_like(output)\n",
    "    all_one_rates = rate_loss(full, d_test, c_test, True).flatten().numpy()\n",
    "    \n",
    "## Load optimal resource allocation from .mat file\n",
    "test_data = scipy.io.loadmat('cf_test_6_30.mat')\n",
    "opt_rates = test_data['R_cf_opt_min']"
   ]
  },
  {
   "cell_type": "code",
   "execution_count": 25,
   "id": "a9310a8b-1298-4f74-aad9-f55f47a7062d",
   "metadata": {},
   "outputs": [],
   "source": [
    "min_rate, max_rate = 0, 2\n",
    "y_axis = np.arange(0, 1.0, 1/202)\n",
    "gnn_rates.sort(); all_one_rates.sort(); opt_rates.sort()\n",
    "gnn_rates = np.insert(gnn_rates, 0, min_rate); gnn_rates = np.insert(gnn_rates,201,max_rate)\n",
    "all_one_rates = np.insert(all_one_rates, 0, min_rate); all_one_rates = np.insert(all_one_rates,201,max_rate)\n",
    "opt_rates = np.insert(opt_rates, 0, min_rate); opt_rates = np.insert(opt_rates,201,max_rate)"
   ]
  },
  {
   "cell_type": "code",
   "execution_count": 27,
   "id": "d470390c-cd23-4cf9-813a-bb70c1c00f10",
   "metadata": {},
   "outputs": [
    {
     "data": {
      "image/png": "[encoded data removed]",
      "text/plain": [
       "<Figure size 432x288 with 1 Axes>"
      ]
     },
     "metadata": {
      "needs_background": "light"
     },
     "output_type": "display_data"
    }
   ],
   "source": [
    "plt.plot(gnn_rates, y_axis, label = 'GNN')\n",
    "plt.plot(opt_rates, y_axis, label = 'Optimal')\n",
    "plt.plot(all_one_rates, y_axis, label = 'Maximum Power')\n",
    "plt.xlabel('Minimum rate [bps/Hz]', {'fontsize':16})\n",
    "plt.ylabel('Empirical CDF', {'fontsize':16})\n",
    "plt.legend(fontsize = 12)\n",
    "plt.grid()"
   ]
  },
  {
   "cell_type": "code",
   "execution_count": null,
   "id": "6adc5d1b-f8c2-4ed7-913d-2d596fbdc352",
   "metadata": {},
   "outputs": [],
   "source": []
  }
 ],
 "metadata": {
  "environment": {
   "kernel": "python3",
   "name": "pytorch-gpu.1-9.m82",
   "type": "gcloud",
   "uri": "gcr.io/deeplearning-platform-release/pytorch-gpu.1-9:m82"
  },
  "kernelspec": {
   "display_name": "Python 3 (ipykernel)",
   "language": "python",
   "name": "python3"
  },
  "language_info": {
   "codemirror_mode": {
    "name": "ipython",
    "version": 3
   },
   "file_extension": ".py",
   "mimetype": "text/x-python",
   "name": "python",
   "nbconvert_exporter": "python",
   "pygments_lexer": "ipython3",
   "version": "3.9.16"
  }
 },
 "nbformat": 4,
 "nbformat_minor": 5
}
